{
  "cells": [
    {
      "cell_type": "markdown",
      "metadata": {
        "id": "cL8iUNRkKnnN"
      },
      "source": [
        "## Instalando o MLflow"
      ]
    },
    {
      "cell_type": "code",
      "execution_count": null,
      "metadata": {},
      "outputs": [],
      "source": [
        "!pip install mlflow==2.2.2 -q"
      ]
    },
    {
      "cell_type": "markdown",
      "metadata": {
        "id": "jAnzWtfqKsfI"
      },
      "source": [
        "## import das bibliotecas"
      ]
    },
    {
      "cell_type": "code",
      "execution_count": 1,
      "metadata": {
        "id": "MAn3URFmJihs"
      },
      "outputs": [],
      "source": [
        "import os\n",
        "import mlflow\n",
        "import numpy as np\n",
        "from dotenv import load_dotenv \n",
        "import dagshub"
      ]
    },
    {
      "cell_type": "code",
      "execution_count": 13,
      "metadata": {},
      "outputs": [
        {
          "data": {
            "text/plain": [
              "True"
            ]
          },
          "execution_count": 13,
          "metadata": {},
          "output_type": "execute_result"
        }
      ],
      "source": [
        "load_dotenv()"
      ]
    },
    {
      "cell_type": "code",
      "execution_count": 2,
      "metadata": {},
      "outputs": [
        {
          "data": {
            "text/plain": [
              "'https://dagshub.com/renan-lemes/PraticeMlOps.mlflow/'"
            ]
          },
          "execution_count": 2,
          "metadata": {},
          "output_type": "execute_result"
        }
      ],
      "source": [
        "os.getenv('MLFLOW_TRACKING_URI')"
      ]
    },
    {
      "cell_type": "code",
      "execution_count": 3,
      "metadata": {},
      "outputs": [
        {
          "data": {
            "text/plain": [
              "'renan-lemes'"
            ]
          },
          "execution_count": 3,
          "metadata": {},
          "output_type": "execute_result"
        }
      ],
      "source": [
        "os.getenv('MLFLOW_TRACKING_USERNAME')"
      ]
    },
    {
      "cell_type": "code",
      "execution_count": null,
      "metadata": {},
      "outputs": [],
      "source": [
        "os."
      ]
    },
    {
      "cell_type": "markdown",
      "metadata": {
        "id": "PhBP5HFCKvYb"
      },
      "source": [
        "## Configurando o MLflow"
      ]
    },
    {
      "cell_type": "code",
      "execution_count": 3,
      "metadata": {
        "id": "Bu43IC6oJj1L"
      },
      "outputs": [],
      "source": [
        "MLFLOW_TRACKING_URI = os.getenv('MLFLOW_TRACKING_URI')\n",
        "MLFLOW_TRACKING_USERNAME = os.getenv('MLFLOW_TRACKING_USERNAME')\n",
        "MLFLOW_TRACKING_PASSWORD = os.getenv('MLFLOW_TRACKING_PASSWORD')\n",
        "os.environ['MLFLOW_TRACKING_USERNAME'] = MLFLOW_TRACKING_USERNAME\n",
        "os.environ['MLFLOW_TRACKING_PASSWORD'] = MLFLOW_TRACKING_PASSWORD\n",
        "\n",
        "mlflow.set_tracking_uri(MLFLOW_TRACKING_URI)\n"
      ]
    },
    {
      "cell_type": "markdown",
      "metadata": {
        "id": "dbFFAEaGK0lX"
      },
      "source": [
        "## Criando um client para comunicar com o registro no DagsHub"
      ]
    },
    {
      "cell_type": "code",
      "execution_count": 4,
      "metadata": {
        "id": "wax9ipKjKShr"
      },
      "outputs": [],
      "source": [
        "client = mlflow.MlflowClient(tracking_uri=MLFLOW_TRACKING_URI)"
      ]
    },
    {
      "cell_type": "code",
      "execution_count": 5,
      "metadata": {
        "id": "fWlu0lRiLp3u"
      },
      "outputs": [
        {
          "data": {
            "text/plain": [
              "<mlflow.tracking.client.MlflowClient at 0x1b04b4faf10>"
            ]
          },
          "execution_count": 5,
          "metadata": {},
          "output_type": "execute_result"
        }
      ],
      "source": [
        "client"
      ]
    },
    {
      "cell_type": "markdown",
      "metadata": {
        "id": "m1NMo6kfLBtq"
      },
      "source": [
        "## Recebendo o modelo registrado e suas versões"
      ]
    },
    {
      "cell_type": "code",
      "execution_count": 6,
      "metadata": {
        "id": "8oSsyfv0K6j5"
      },
      "outputs": [],
      "source": [
        "registered_model = client.get_registered_model('fetal_health')"
      ]
    },
    {
      "cell_type": "code",
      "execution_count": 7,
      "metadata": {},
      "outputs": [
        {
          "data": {
            "text/plain": [
              "<RegisteredModel: creation_timestamp=1718660526152, description='', last_updated_timestamp=1718660946275, latest_versions=[<ModelVersion: creation_timestamp=1718660946275, current_stage='None', description='', last_updated_timestamp=1718660946275, name='fetal_health', run_id='8d84c2215e0145588ba4fe97efc97719', run_link='', source='models:/44221_fetal_health/2', status='READY', status_message='', tags={}, user_id='', version='3'>], name='fetal_health', tags={}>"
            ]
          },
          "execution_count": 7,
          "metadata": {},
          "output_type": "execute_result"
        }
      ],
      "source": [
        "registered_model"
      ]
    },
    {
      "cell_type": "code",
      "execution_count": 8,
      "metadata": {},
      "outputs": [
        {
          "ename": "AttributeError",
          "evalue": "'MlflowClient' object has no attribute 'list_registered_models'",
          "output_type": "error",
          "traceback": [
            "\u001b[1;31m---------------------------------------------------------------------------\u001b[0m",
            "\u001b[1;31mAttributeError\u001b[0m                            Traceback (most recent call last)",
            "Cell \u001b[1;32mIn[8], line 4\u001b[0m\n\u001b[0;32m      1\u001b[0m \u001b[38;5;28;01mfrom\u001b[39;00m \u001b[38;5;21;01mmlflow\u001b[39;00m\u001b[38;5;21;01m.\u001b[39;00m\u001b[38;5;21;01mtracking\u001b[39;00m \u001b[38;5;28;01mimport\u001b[39;00m MlflowClient\n\u001b[1;32m----> 4\u001b[0m models \u001b[38;5;241m=\u001b[39m \u001b[43mclient\u001b[49m\u001b[38;5;241;43m.\u001b[39;49m\u001b[43mlist_registered_models\u001b[49m()\n\u001b[0;32m      5\u001b[0m \u001b[38;5;28mprint\u001b[39m(models)\n",
            "\u001b[1;31mAttributeError\u001b[0m: 'MlflowClient' object has no attribute 'list_registered_models'"
          ]
        }
      ],
      "source": [
        "from mlflow.tracking import MlflowClient\n",
        "\n",
        "client.list_artifacts\n",
        "\n",
        "models = client.list_registered_models()\n",
        "print(models)\n"
      ]
    },
    {
      "cell_type": "code",
      "execution_count": 9,
      "metadata": {
        "id": "e2DDK_6_LPi5"
      },
      "outputs": [
        {
          "data": {
            "text/plain": [
              "[<ModelVersion: creation_timestamp=1718660946275, current_stage='None', description='', last_updated_timestamp=1718660946275, name='fetal_health', run_id='8d84c2215e0145588ba4fe97efc97719', run_link='', source='models:/44221_fetal_health/2', status='READY', status_message='', tags={}, user_id='', version='3'>]"
            ]
          },
          "execution_count": 9,
          "metadata": {},
          "output_type": "execute_result"
        }
      ],
      "source": [
        "registered_model.latest_versions"
      ]
    },
    {
      "cell_type": "markdown",
      "metadata": {
        "id": "DfBd2wRdLRPC"
      },
      "source": [
        "## Obtendo o id da execução do modelo"
      ]
    },
    {
      "cell_type": "code",
      "execution_count": 10,
      "metadata": {
        "id": "HG-BzNlkK9oC"
      },
      "outputs": [],
      "source": [
        "run_id = registered_model.latest_versions[-1].run_id"
      ]
    },
    {
      "cell_type": "code",
      "execution_count": 11,
      "metadata": {},
      "outputs": [
        {
          "data": {
            "text/plain": [
              "'8d84c2215e0145588ba4fe97efc97719'"
            ]
          },
          "execution_count": 11,
          "metadata": {},
          "output_type": "execute_result"
        }
      ],
      "source": [
        "run_id"
      ]
    },
    {
      "cell_type": "markdown",
      "metadata": {
        "id": "WORhnvgnLYrX"
      },
      "source": [
        "## Carregando o modelo"
      ]
    },
    {
      "cell_type": "code",
      "execution_count": 11,
      "metadata": {
        "id": "xa1ZTR6OK_hg"
      },
      "outputs": [
        {
          "name": "stderr",
          "output_type": "stream",
          "text": [
            "c:\\Users\\RenanLemes\\anaconda3\\envs\\mlops-pratice-env\\lib\\site-packages\\keras\\backend.py:451: UserWarning: `tf.keras.backend.set_learning_phase` is deprecated and will be removed after 2020-10-11. To update it, simply pass a True/False value to the `training` argument of the `__call__` method of your layer or model.\n",
            "  warnings.warn(\n"
          ]
        }
      ],
      "source": [
        "logged_model = f'runs:/{run_id}/model'\n",
        "loaded_model = mlflow.pyfunc.load_model(logged_model)"
      ]
    },
    {
      "cell_type": "markdown",
      "metadata": {
        "id": "IQBbf3xULc1A"
      },
      "source": [
        "## Fazendo uma predição com o modelo carregadO"
      ]
    },
    {
      "cell_type": "code",
      "execution_count": 12,
      "metadata": {
        "id": "SwbDW9aLJziQ"
      },
      "outputs": [],
      "source": [
        "accelerations = 0\n",
        "fetal_movement = 0\n",
        "uterine_contractions = 0\n",
        "severe_decelerations = 0"
      ]
    },
    {
      "cell_type": "code",
      "execution_count": 13,
      "metadata": {
        "id": "s-Ed15fsJv5k"
      },
      "outputs": [],
      "source": [
        "received_data = np.array([\n",
        "        accelerations,\n",
        "        fetal_movement,\n",
        "        uterine_contractions,\n",
        "        severe_decelerations,\n",
        "    ]).reshape(1, -1)"
      ]
    },
    {
      "cell_type": "code",
      "execution_count": 14,
      "metadata": {
        "id": "Mpc1_Y57J_xV"
      },
      "outputs": [
        {
          "data": {
            "text/plain": [
              "array([[0, 0, 0, 0]])"
            ]
          },
          "execution_count": 14,
          "metadata": {},
          "output_type": "execute_result"
        }
      ],
      "source": [
        "received_data"
      ]
    },
    {
      "cell_type": "code",
      "execution_count": 15,
      "metadata": {
        "id": "lV6gcA8dJmX0"
      },
      "outputs": [
        {
          "name": "stdout",
          "output_type": "stream",
          "text": [
            "1/1 [==============================] - 0s 220ms/step\n"
          ]
        },
        {
          "data": {
            "text/plain": [
              "array([[0.97320765, 0.01610816, 0.01068418]], dtype=float32)"
            ]
          },
          "execution_count": 15,
          "metadata": {},
          "output_type": "execute_result"
        }
      ],
      "source": [
        "loaded_model.predict(received_data)"
      ]
    },
    {
      "cell_type": "code",
      "execution_count": null,
      "metadata": {
        "id": "k3qYyLsyKDVb"
      },
      "outputs": [],
      "source": []
    }
  ],
  "metadata": {
    "colab": {
      "provenance": []
    },
    "kernelspec": {
      "display_name": "Python 3",
      "name": "python3"
    },
    "language_info": {
      "codemirror_mode": {
        "name": "ipython",
        "version": 3
      },
      "file_extension": ".py",
      "mimetype": "text/x-python",
      "name": "python",
      "nbconvert_exporter": "python",
      "pygments_lexer": "ipython3",
      "version": "3.9.19"
    }
  },
  "nbformat": 4,
  "nbformat_minor": 0
}
